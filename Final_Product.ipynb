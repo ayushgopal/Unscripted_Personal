{
 "cells": [
  {
   "cell_type": "markdown",
   "id": "5a16f052",
   "metadata": {},
   "source": [
    "# IMPORTS"
   ]
  },
  {
   "cell_type": "code",
   "execution_count": 1,
   "id": "e339df79",
   "metadata": {},
   "outputs": [],
   "source": [
    "from transformers import T5ForConditionalGeneration, T5Tokenizer\n",
    "import pyaudio\n",
    "import speech_recognition as sr"
   ]
  },
  {
   "cell_type": "markdown",
   "id": "6b7f9269",
   "metadata": {},
   "source": [
    "## Record Audio (better results that uploading recorded file)"
   ]
  },
  {
   "cell_type": "code",
   "execution_count": 3,
   "id": "c1d8e118",
   "metadata": {},
   "outputs": [
    {
     "name": "stdout",
     "output_type": "stream",
     "text": [
      "hello I am Ayush and Gopal and this project has been really awesome and I have learnt many things from 8 I am recording this audio to use this for testing purpose of this project\n"
     ]
    }
   ],
   "source": [
    "reco=sr.Recognizer()\n",
    "with sr.Microphone() as source:\n",
    "    audio=reco.listen(source)\n",
    "get=reco.recognize_google(audio)\n",
    "print(get)"
   ]
  },
  {
   "cell_type": "markdown",
   "id": "a0e0f406",
   "metadata": {},
   "source": [
    "## Upload audio file (results maybe a little vague)\n"
   ]
  },
  {
   "cell_type": "code",
   "execution_count": 2,
   "id": "42559674",
   "metadata": {},
   "outputs": [],
   "source": [
    "reco=sr.Recognizer()\n",
    "audio_file = sr.AudioFile('C:\\\\Users\\\\Ayush\\\\Downloads\\\\audio2.wav')\n",
    "with audio_file as source: \n",
    "    \n",
    "   audio = reco.record(source)\n",
    "   get = reco.recognize_google(audio)"
   ]
  },
  {
   "cell_type": "markdown",
   "id": "1b82ef2d",
   "metadata": {},
   "source": [
    "## Upload model file"
   ]
  },
  {
   "cell_type": "code",
   "execution_count": 8,
   "id": "08d87a0a",
   "metadata": {},
   "outputs": [],
   "source": [
    "load_file=\"C:\\\\Users\\\\Ayush\\\\Downloads\\\\xyz\" #change the path to where model is stored"
   ]
  },
  {
   "cell_type": "code",
   "execution_count": 9,
   "id": "cafe4707",
   "metadata": {},
   "outputs": [],
   "source": [
    "\n",
    "load = T5ForConditionalGeneration.from_pretrained(load_file)\n",
    "tokenizer = T5Tokenizer.from_pretrained(\"t5-base\")\n"
   ]
  },
  {
   "cell_type": "code",
   "execution_count": 4,
   "id": "768432ee",
   "metadata": {},
   "outputs": [],
   "source": [
    "get=r\"\"\" yeah because . different things the way they are said here than in contrast to the way they'd be said in other countries . \n",
    "yeah . yeah Your Columbian Spanish won't work, huh? yeah so yeah . I know &=laughs And she said she could when I &uh in talking she said I can &uh tell that you were taught . By &uh Castilians . \n",
    "oh ah .You know just the way you say different things.yeah she can t- &=breath so it was it's been interesting. Now, where did you start off, anyway? &=inhales In Columbia, in Bogota, Columbia.\n",
    "oh, I see.Well that was good &=distorted . And then &uh and then go- &uh Gordabatca, which was a little different. uhhuh mhm . \"\"\""
   ]
  },
  {
   "cell_type": "code",
   "execution_count": 5,
   "id": "606fad7a",
   "metadata": {},
   "outputs": [],
   "source": [
    "i=0\n",
    "for char in get:\n",
    "    \n",
    "        i=i+1\n"
   ]
  },
  {
   "cell_type": "code",
   "execution_count": 29,
   "id": "f9034a23",
   "metadata": {},
   "outputs": [],
   "source": []
  },
  {
   "cell_type": "code",
   "execution_count": 6,
   "id": "2f893e1a",
   "metadata": {},
   "outputs": [],
   "source": [
    "article1=get[:int(i/2)]\n",
    "article2=get[int(i/2)+1:]"
   ]
  },
  {
   "cell_type": "code",
   "execution_count": 14,
   "id": "fec00e42",
   "metadata": {},
   "outputs": [],
   "source": [
    "\n",
    "inputs = tokenizer.encode(\"summarize: \" + article1, return_tensors=\"pt\", max_length=10000, truncation=True)\n",
    "outputs = load.generate(\n",
    "            inputs, \n",
    "            max_length=30,\n",
    "            min_length=0,\n",
    "            num_beams=2,\n",
    "            repetition_penalty=3.0, \n",
    "            length_penalty=3.0, \n",
    "            early_stopping=True)\n",
    "\n",
    "str1=tokenizer.decode(outputs[0])\n",
    "\n",
    "\n",
    "\n",
    "inputs = tokenizer.encode(\"summarize: \" + article2, return_tensors=\"pt\", max_length=10000, truncation=True)\n",
    "outputs = load.generate(\n",
    "            inputs, \n",
    "            max_length=30,\n",
    "            min_length=0,\n",
    "            num_beams=2,\n",
    "            repetition_penalty=3.0, \n",
    "            length_penalty=3.0, \n",
    "            early_stopping=True)\n",
    "str2=tokenizer.decode(outputs[0])\n",
    "\n"
   ]
  },
  {
   "cell_type": "code",
   "execution_count": 17,
   "id": "ff800d0f",
   "metadata": {},
   "outputs": [],
   "source": [
    "str=str1+str2"
   ]
  },
  {
   "cell_type": "code",
   "execution_count": 23,
   "id": "7b43d9fb",
   "metadata": {},
   "outputs": [
    {
     "data": {
      "text/plain": [
       "\"<pad> <unk> file_other> Is it true that the Spanish spoken here is different from the way they're said in other countries? Yeah<pad> <unk> file_photo> Is that the first time you've been to Colombia? It was really interesting. You know how it is\""
      ]
     },
     "execution_count": 23,
     "metadata": {},
     "output_type": "execute_result"
    }
   ],
   "source": [
    "str"
   ]
  },
  {
   "cell_type": "code",
   "execution_count": null,
   "id": "ade21637",
   "metadata": {},
   "outputs": [],
   "source": []
  }
 ],
 "metadata": {
  "kernelspec": {
   "display_name": "Python 3",
   "language": "python",
   "name": "python3"
  },
  "language_info": {
   "codemirror_mode": {
    "name": "ipython",
    "version": 3
   },
   "file_extension": ".py",
   "mimetype": "text/x-python",
   "name": "python",
   "nbconvert_exporter": "python",
   "pygments_lexer": "ipython3",
   "version": "3.8.8"
  }
 },
 "nbformat": 4,
 "nbformat_minor": 5
}
