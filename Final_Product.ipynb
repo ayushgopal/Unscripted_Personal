{
 "cells": [
  {
   "cell_type": "markdown",
   "id": "5a16f052",
   "metadata": {},
   "source": [
    "# IMPORTS"
   ]
  },
  {
   "cell_type": "code",
   "execution_count": 42,
   "id": "e339df79",
   "metadata": {},
   "outputs": [],
   "source": [
    "from transformers import T5ForConditionalGeneration, T5Tokenizer\n",
    "import pyaudio\n",
    "import speech_recognition as sr"
   ]
  },
  {
   "cell_type": "markdown",
   "id": "6b7f9269",
   "metadata": {},
   "source": [
    "## Record Audio"
   ]
  },
  {
   "cell_type": "code",
   "execution_count": 55,
   "id": "c1d8e118",
   "metadata": {},
   "outputs": [
    {
     "name": "stdout",
     "output_type": "stream",
     "text": [
      "blank blank blank\n"
     ]
    }
   ],
   "source": [
    "reco=sr.Recognizer()\n",
    "with sr.Microphone() as source:\n",
    "    audio=reco.listen(source)\n",
    "get=reco.recognize_google(audio)\n",
    "print(get)"
   ]
  },
  {
   "cell_type": "markdown",
   "id": "a0e0f406",
   "metadata": {},
   "source": [
    "## Upload audio file"
   ]
  },
  {
   "cell_type": "code",
   "execution_count": null,
   "id": "42559674",
   "metadata": {},
   "outputs": [],
   "source": [
    "reco=sr.Recognizer()\n",
    "audio_file = sr.AudioFile('audio3.wav')\n",
    "with audio_file as source: \n",
    "   reco.adjust_for_ambient_noise(source) \n",
    "   audio = reco.record(source)\n",
    "   get = reco.recognize_google(audio)"
   ]
  },
  {
   "cell_type": "markdown",
   "id": "1b82ef2d",
   "metadata": {},
   "source": [
    "## Upload model file"
   ]
  },
  {
   "cell_type": "code",
   "execution_count": 46,
   "id": "08d87a0a",
   "metadata": {},
   "outputs": [],
   "source": [
    "load_file=\"C:\\\\Users\\\\Ayush\\\\Downloads\\\\xyz\" #change the path to where model is stored"
   ]
  },
  {
   "cell_type": "code",
   "execution_count": 47,
   "id": "cafe4707",
   "metadata": {},
   "outputs": [],
   "source": [
    "\n",
    "load = T5ForConditionalGeneration.from_pretrained(load_file)\n",
    "tokenizer = T5Tokenizer.from_pretrained(\"t5-base\")\n"
   ]
  },
  {
   "cell_type": "code",
   "execution_count": 48,
   "id": "fec00e42",
   "metadata": {},
   "outputs": [
    {
     "name": "stdout",
     "output_type": "stream",
     "text": [
      "tensor([[   0, 2018,    6,   27,   31,   51,   71,   63, 8489, 1263, 6459,    5,\n",
      "          571,   33,   25,  692,   58,    3,   10,   61,  148,  214,  140,  168,\n",
      "          631,   12,   36, 5057,   28, 1512]])\n",
      "Hi, I'm Ayush Gopal. How are you doing? :) You know me well enough to be honest with myself\n"
     ]
    }
   ],
   "source": [
    "inputs = tokenizer.encode(\"summarize: \" + get, return_tensors=\"pt\", max_length=512, truncation=True)\n",
    "outputs = load.generate(\n",
    "            inputs, \n",
    "            max_length=30, \n",
    "            num_beams=2,\n",
    "            repetition_penalty=2.5, \n",
    "            length_penalty=1.0, \n",
    "            early_stopping=True)\n",
    "# just for debugging\n",
    "\n"
   ]
  },
  {
   "cell_type": "code",
   "execution_count": 56,
   "id": "40255557",
   "metadata": {},
   "outputs": [
    {
     "name": "stdout",
     "output_type": "stream",
     "text": [
      "Hi, I'm Ayush Gopal. How are you doing? :) You know me well enough to be honest with myself\n"
     ]
    }
   ],
   "source": [
    "print(tokenizer.decode(outputs[0]))"
   ]
  },
  {
   "cell_type": "code",
   "execution_count": null,
   "id": "c1b5d958",
   "metadata": {},
   "outputs": [],
   "source": []
  }
 ],
 "metadata": {
  "kernelspec": {
   "display_name": "Python 3",
   "language": "python",
   "name": "python3"
  },
  "language_info": {
   "codemirror_mode": {
    "name": "ipython",
    "version": 3
   },
   "file_extension": ".py",
   "mimetype": "text/x-python",
   "name": "python",
   "nbconvert_exporter": "python",
   "pygments_lexer": "ipython3",
   "version": "3.8.8"
  }
 },
 "nbformat": 4,
 "nbformat_minor": 5
}
