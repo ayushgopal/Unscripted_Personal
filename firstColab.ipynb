{
  "nbformat": 4,
  "nbformat_minor": 0,
  "metadata": {
    "colab": {
      "name": "firstColab.ipynb",
      "provenance": [],
      "authorship_tag": "ABX9TyOmjxuwJPNsMIS3p05zoSY6",
      "include_colab_link": true
    },
    "kernelspec": {
      "name": "python3",
      "display_name": "Python 3"
    },
    "language_info": {
      "name": "python"
    }
  },
  "cells": [
    {
      "cell_type": "markdown",
      "metadata": {
        "id": "view-in-github",
        "colab_type": "text"
      },
      "source": [
        "<a href=\"https://colab.research.google.com/github/ayushgopal/Unscripted_Personal/blob/main/firstColab.ipynb\" target=\"_parent\"><img src=\"https://colab.research.google.com/assets/colab-badge.svg\" alt=\"Open In Colab\"/></a>"
      ]
    },
    {
      "cell_type": "code",
      "metadata": {
        "id": "__DJnExKe4SM",
        "colab": {
          "base_uri": "https://localhost:8080/"
        },
        "outputId": "27065221-45a1-4719-848c-e60214b8d91b"
      },
      "source": [
        "print(\"lets begin Unscripted @ wncc_IITB\")\n",
        "print(\"Today is 02-04-2021\")"
      ],
      "execution_count": null,
      "outputs": [
        {
          "output_type": "stream",
          "text": [
            "lets begin Unscripted @ wncc_IITB\n",
            "Today is 02-04-2021\n"
          ],
          "name": "stdout"
        }
      ]
    },
    {
      "cell_type": "code",
      "metadata": {
        "id": "CUcxEOvHWfh5"
      },
      "source": [
        ""
      ],
      "execution_count": null,
      "outputs": []
    }
  ]
}